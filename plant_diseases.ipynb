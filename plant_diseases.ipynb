{
 "cells": [
  {
   "cell_type": "code",
   "execution_count": 1,
   "metadata": {
    "colab": {
     "base_uri": "https://localhost:8080/"
    },
    "id": "PGkIDV14A7OM",
    "outputId": "0f27a2e5-b258-498f-d7fb-6b6b2faf3cd3"
   },
   "outputs": [
    {
     "name": "stdout",
     "output_type": "stream",
     "text": [
      "Collecting opendatasets\n",
      "  Downloading opendatasets-0.1.22-py3-none-any.whl (15 kB)\n",
      "Requirement already satisfied: tqdm in /usr/local/lib/python3.10/dist-packages (from opendatasets) (4.66.2)\n",
      "Requirement already satisfied: kaggle in /usr/local/lib/python3.10/dist-packages (from opendatasets) (1.5.16)\n",
      "Requirement already satisfied: click in /usr/local/lib/python3.10/dist-packages (from opendatasets) (8.1.7)\n",
      "Requirement already satisfied: six>=1.10 in /usr/local/lib/python3.10/dist-packages (from kaggle->opendatasets) (1.16.0)\n",
      "Requirement already satisfied: certifi in /usr/local/lib/python3.10/dist-packages (from kaggle->opendatasets) (2024.2.2)\n",
      "Requirement already satisfied: python-dateutil in /usr/local/lib/python3.10/dist-packages (from kaggle->opendatasets) (2.8.2)\n",
      "Requirement already satisfied: requests in /usr/local/lib/python3.10/dist-packages (from kaggle->opendatasets) (2.31.0)\n",
      "Requirement already satisfied: python-slugify in /usr/local/lib/python3.10/dist-packages (from kaggle->opendatasets) (8.0.4)\n",
      "Requirement already satisfied: urllib3 in /usr/local/lib/python3.10/dist-packages (from kaggle->opendatasets) (2.0.7)\n",
      "Requirement already satisfied: bleach in /usr/local/lib/python3.10/dist-packages (from kaggle->opendatasets) (6.1.0)\n",
      "Requirement already satisfied: webencodings in /usr/local/lib/python3.10/dist-packages (from bleach->kaggle->opendatasets) (0.5.1)\n",
      "Requirement already satisfied: text-unidecode>=1.3 in /usr/local/lib/python3.10/dist-packages (from python-slugify->kaggle->opendatasets) (1.3)\n",
      "Requirement already satisfied: charset-normalizer<4,>=2 in /usr/local/lib/python3.10/dist-packages (from requests->kaggle->opendatasets) (3.3.2)\n",
      "Requirement already satisfied: idna<4,>=2.5 in /usr/local/lib/python3.10/dist-packages (from requests->kaggle->opendatasets) (3.6)\n",
      "Installing collected packages: opendatasets\n",
      "Successfully installed opendatasets-0.1.22\n"
     ]
    }
   ],
   "source": [
    "!pip install opendatasets"
   ]
  },
  {
   "cell_type": "code",
   "execution_count": 2,
   "metadata": {
    "id": "cDlzyM0uA_3E"
   },
   "outputs": [],
   "source": [
    "import opendatasets as od\n",
    "import pandas as pd"
   ]
  },
  {
   "cell_type": "code",
   "execution_count": 3,
   "metadata": {
    "colab": {
     "base_uri": "https://localhost:8080/"
    },
    "id": "sBnScypXBFNE",
    "outputId": "fc586b4a-ab5b-4fde-e0a9-0ff98e364370"
   },
   "outputs": [
    {
     "name": "stdout",
     "output_type": "stream",
     "text": [
      "Please provide your Kaggle credentials to download this dataset. Learn more: http://bit.ly/kaggle-creds\n",
      "Your Kaggle username: nagasreenivasulu\n",
      "Your Kaggle Key: ··········\n",
      "Downloading new-plant-diseases-dataset.zip to ./new-plant-diseases-dataset\n"
     ]
    },
    {
     "name": "stderr",
     "output_type": "stream",
     "text": [
      "100%|██████████| 2.70G/2.70G [01:08<00:00, 42.0MB/s]\n"
     ]
    },
    {
     "name": "stdout",
     "output_type": "stream",
     "text": [
      "\n"
     ]
    }
   ],
   "source": [
    "od.download(\n",
    "    \"https://www.kaggle.com/datasets/vipoooool/new-plant-diseases-dataset\")"
   ]
  },
  {
   "cell_type": "code",
   "execution_count": 4,
   "metadata": {
    "id": "K4K-2LG6Cdii"
   },
   "outputs": [],
   "source": [
    "import tensorflow as tf\n",
    "from tensorflow import keras\n",
    "from tensorflow.keras import models, layers\n",
    "import matplotlib.pyplot as plt\n",
    "from IPython.display import HTML"
   ]
  },
  {
   "cell_type": "code",
   "execution_count": 5,
   "metadata": {
    "id": "Ph2drz51Cent"
   },
   "outputs": [],
   "source": [
    "from tensorflow.keras.preprocessing.image import ImageDataGenerator\n",
    "# Define augmentation parameters\n",
    "datagen = ImageDataGenerator(\n",
    "    rotation_range=20,      # Randomly rotate images by up to 20 degrees\n",
    "    width_shift_range=0.2,  # Randomly shift images horizontally by up to 20% of the width\n",
    "    height_shift_range=0.2, # Randomly shift images vertically by up to 20% of the height\n",
    "    shear_range=0.2,        # Apply shear transformation with intensity up to 20 degrees\n",
    "    zoom_range=0.2,         # Randomly zoom into images by up to 20%\n",
    "    horizontal_flip=True,   # Randomly flip images horizontally\n",
    "    fill_mode='nearest'     # Strategy for filling in newly created pixels after transformations\n",
    ")\n"
   ]
  },
  {
   "cell_type": "code",
   "execution_count": 6,
   "metadata": {
    "colab": {
     "base_uri": "https://localhost:8080/"
    },
    "id": "c69R1XAVCiUz",
    "outputId": "a07812fa-0ab7-42e1-9f3c-e7e3551841cb"
   },
   "outputs": [
    {
     "name": "stdout",
     "output_type": "stream",
     "text": [
      "Found 70295 images belonging to 38 classes.\n"
     ]
    }
   ],
   "source": [
    "# Load and preprocess images using the generator\n",
    "train_generator = datagen.flow_from_directory(\n",
    "    '/content/new-plant-diseases-dataset/New Plant Diseases Dataset(Augmented)/New Plant Diseases Dataset(Augmented)/train',          # Path to the directory containing training images\n",
    "    target_size=(150, 150),# Resize images to 150x150\n",
    "    batch_size=32,         # Number of images to yield in each batch\n",
    "    class_mode='binary'    # Type of label to return (e.g., binary, categorical)\n",
    ")"
   ]
  },
  {
   "cell_type": "code",
   "execution_count": 7,
   "metadata": {
    "colab": {
     "base_uri": "https://localhost:8080/"
    },
    "id": "9YdbdKXwCPSM",
    "outputId": "8a1d6e77-8989-4178-dc4d-95aa103090bc"
   },
   "outputs": [
    {
     "name": "stdout",
     "output_type": "stream",
     "text": [
      "Model: \"sequential\"\n",
      "_________________________________________________________________\n",
      " Layer (type)                Output Shape              Param #   \n",
      "=================================================================\n",
      " conv2d (Conv2D)             (None, 148, 148, 32)      896       \n",
      "                                                                 \n",
      " max_pooling2d (MaxPooling2  (None, 74, 74, 32)        0         \n",
      " D)                                                              \n",
      "                                                                 \n",
      " conv2d_1 (Conv2D)           (None, 72, 72, 64)        18496     \n",
      "                                                                 \n",
      " max_pooling2d_1 (MaxPoolin  (None, 36, 36, 64)        0         \n",
      " g2D)                                                            \n",
      "                                                                 \n",
      " conv2d_2 (Conv2D)           (None, 34, 34, 64)        36928     \n",
      "                                                                 \n",
      " max_pooling2d_2 (MaxPoolin  (None, 17, 17, 64)        0         \n",
      " g2D)                                                            \n",
      "                                                                 \n",
      " flatten (Flatten)           (None, 18496)             0         \n",
      "                                                                 \n",
      " dense (Dense)               (None, 64)                1183808   \n",
      "                                                                 \n",
      " dense_1 (Dense)             (None, 38)                2470      \n",
      "                                                                 \n",
      "=================================================================\n",
      "Total params: 1242598 (4.74 MB)\n",
      "Trainable params: 1242598 (4.74 MB)\n",
      "Non-trainable params: 0 (0.00 Byte)\n",
      "_________________________________________________________________\n"
     ]
    }
   ],
   "source": [
    "from tensorflow.keras import layers, models\n",
    "# Define the CNN model\n",
    "def create_cnn_model(input_shape, num_classes):\n",
    "    model = models.Sequential([\n",
    "        # Convolutional layers\n",
    "        layers.Conv2D(32, (3, 3), activation='relu', input_shape=input_shape),\n",
    "        layers.MaxPooling2D((2, 2)),\n",
    "        layers.Conv2D(64, (3, 3), activation='relu'),\n",
    "        layers.MaxPooling2D((2, 2)),\n",
    "        layers.Conv2D(64, (3, 3), activation='relu'),\n",
    "        layers.MaxPooling2D((2, 2)),\n",
    "        # Flatten layer to feed into densely connected layers\n",
    "        layers.Flatten(),\n",
    "        # Dense layers\n",
    "        layers.Dense(64, activation='relu'),\n",
    "        layers.Dense(num_classes, activation='softmax')\n",
    "    ])\n",
    "\n",
    "    return model\n",
    "\n",
    "# Define input shape and number of classes\n",
    "input_shape = (150, 150, 3)  # Example input shape for images of size 150x150 with 3 channels (RGB)\n",
    "num_classes = 38  # Example number of classes\n",
    "\n",
    "# Create the CNN model\n",
    "model = create_cnn_model(input_shape, num_classes)\n",
    "\n",
    "# Print model summary\n",
    "model.summary()"
   ]
  },
  {
   "cell_type": "code",
   "execution_count": 8,
   "metadata": {
    "id": "rRktC9SyCuZu"
   },
   "outputs": [],
   "source": [
    "# Compile the model\n",
    "model.compile(optimizer='adam',  # You can also specify other optimizers like SGD, RMSprop, etc.\n",
    "              loss='sparse_categorical_crossentropy',  # Use categorical_crossentropy for one-hot encoded labels\n",
    "              metrics=['accuracy'])  # Additional metrics to monitor during training (optional)"
   ]
  },
  {
   "cell_type": "code",
   "execution_count": 12,
   "metadata": {
    "colab": {
     "base_uri": "https://localhost:8080/"
    },
    "id": "f_7-W-33Cxao",
    "outputId": "8927b180-610c-40c8-9872-a5dd377ed648"
   },
   "outputs": [
    {
     "name": "stdout",
     "output_type": "stream",
     "text": [
      "Epoch 1/50\n",
      "351/351 [==============================] - 74s 211ms/step - loss: 3.2731 - accuracy: 0.1047\n",
      "Epoch 2/50\n",
      "351/351 [==============================] - 75s 215ms/step - loss: 3.1177 - accuracy: 0.1427\n",
      "Epoch 3/50\n",
      "351/351 [==============================] - 74s 210ms/step - loss: 2.8530 - accuracy: 0.2057\n",
      "Epoch 4/50\n",
      "351/351 [==============================] - 72s 206ms/step - loss: 2.5688 - accuracy: 0.2669\n",
      "Epoch 5/50\n",
      "351/351 [==============================] - 73s 209ms/step - loss: 2.1803 - accuracy: 0.3632\n",
      "Epoch 6/50\n",
      "351/351 [==============================] - 73s 207ms/step - loss: 1.8272 - accuracy: 0.4582\n",
      "Epoch 7/50\n",
      "351/351 [==============================] - 73s 206ms/step - loss: 1.5802 - accuracy: 0.5236\n",
      "Epoch 8/50\n",
      "351/351 [==============================] - 73s 207ms/step - loss: 1.3447 - accuracy: 0.5872\n",
      "Epoch 9/50\n",
      "351/351 [==============================] - 72s 205ms/step - loss: 1.2231 - accuracy: 0.6235\n",
      "Epoch 10/50\n",
      "351/351 [==============================] - 73s 208ms/step - loss: 1.1386 - accuracy: 0.6484\n",
      "Epoch 11/50\n",
      "351/351 [==============================] - 73s 208ms/step - loss: 1.0250 - accuracy: 0.6822\n",
      "Epoch 12/50\n",
      "351/351 [==============================] - 73s 207ms/step - loss: 0.9940 - accuracy: 0.6899\n",
      "Epoch 13/50\n",
      "351/351 [==============================] - 73s 209ms/step - loss: 0.8752 - accuracy: 0.7268\n",
      "Epoch 14/50\n",
      "351/351 [==============================] - 71s 201ms/step - loss: 0.8437 - accuracy: 0.7349\n",
      "Epoch 15/50\n",
      "351/351 [==============================] - 72s 204ms/step - loss: 0.7783 - accuracy: 0.7533\n",
      "Epoch 16/50\n",
      "351/351 [==============================] - 70s 199ms/step - loss: 0.7860 - accuracy: 0.7505\n",
      "Epoch 17/50\n",
      "351/351 [==============================] - 70s 199ms/step - loss: 0.7896 - accuracy: 0.7538\n",
      "Epoch 18/50\n",
      "351/351 [==============================] - 70s 199ms/step - loss: 0.7050 - accuracy: 0.7754\n",
      "Epoch 19/50\n",
      "351/351 [==============================] - 71s 201ms/step - loss: 0.6918 - accuracy: 0.7831\n",
      "Epoch 20/50\n",
      "351/351 [==============================] - 71s 202ms/step - loss: 0.6426 - accuracy: 0.7965\n",
      "Epoch 21/50\n",
      "351/351 [==============================] - 70s 199ms/step - loss: 0.6732 - accuracy: 0.7887\n",
      "Epoch 22/50\n",
      "351/351 [==============================] - 71s 203ms/step - loss: 0.6270 - accuracy: 0.8045\n",
      "Epoch 23/50\n",
      "351/351 [==============================] - 70s 198ms/step - loss: 0.6259 - accuracy: 0.8021\n",
      "Epoch 24/50\n",
      "351/351 [==============================] - 71s 201ms/step - loss: 0.5710 - accuracy: 0.8200\n",
      "Epoch 25/50\n",
      "351/351 [==============================] - 69s 198ms/step - loss: 0.5839 - accuracy: 0.8180\n",
      "Epoch 26/50\n",
      "351/351 [==============================] - 71s 204ms/step - loss: 0.5507 - accuracy: 0.8248\n",
      "Epoch 27/50\n",
      "351/351 [==============================] - 69s 197ms/step - loss: 0.5606 - accuracy: 0.8234\n",
      "Epoch 28/50\n",
      "351/351 [==============================] - 71s 201ms/step - loss: 0.5448 - accuracy: 0.8280\n",
      "Epoch 29/50\n",
      "351/351 [==============================] - 70s 198ms/step - loss: 0.5310 - accuracy: 0.8348\n",
      "Epoch 30/50\n",
      "351/351 [==============================] - 71s 201ms/step - loss: 0.5382 - accuracy: 0.8301\n",
      "Epoch 31/50\n",
      "351/351 [==============================] - 71s 201ms/step - loss: 0.5133 - accuracy: 0.8364\n",
      "Epoch 32/50\n",
      "351/351 [==============================] - 72s 205ms/step - loss: 0.5095 - accuracy: 0.8381\n",
      "Epoch 33/50\n",
      "351/351 [==============================] - 70s 199ms/step - loss: 0.4990 - accuracy: 0.8444\n",
      "Epoch 34/50\n",
      "351/351 [==============================] - 71s 202ms/step - loss: 0.5059 - accuracy: 0.8376\n",
      "Epoch 35/50\n",
      "351/351 [==============================] - 70s 201ms/step - loss: 0.4981 - accuracy: 0.8416\n",
      "Epoch 36/50\n",
      "351/351 [==============================] - 69s 198ms/step - loss: 0.4985 - accuracy: 0.8464\n",
      "Epoch 37/50\n",
      "351/351 [==============================] - 71s 203ms/step - loss: 0.4988 - accuracy: 0.8455\n",
      "Epoch 38/50\n",
      "351/351 [==============================] - 70s 198ms/step - loss: 0.4765 - accuracy: 0.8489\n",
      "Epoch 39/50\n",
      "351/351 [==============================] - 71s 202ms/step - loss: 0.4534 - accuracy: 0.8580\n",
      "Epoch 40/50\n",
      "351/351 [==============================] - 70s 201ms/step - loss: 0.4655 - accuracy: 0.8519\n",
      "Epoch 41/50\n",
      "351/351 [==============================] - 72s 204ms/step - loss: 0.4531 - accuracy: 0.8582\n",
      "Epoch 42/50\n",
      "351/351 [==============================] - 70s 200ms/step - loss: 0.4597 - accuracy: 0.8535\n",
      "Epoch 43/50\n",
      "351/351 [==============================] - 71s 202ms/step - loss: 0.4564 - accuracy: 0.8526\n",
      "Epoch 44/50\n",
      "351/351 [==============================] - 70s 200ms/step - loss: 0.4539 - accuracy: 0.8545\n",
      "Epoch 45/50\n",
      "351/351 [==============================] - 71s 203ms/step - loss: 0.4491 - accuracy: 0.8583\n",
      "Epoch 46/50\n",
      "351/351 [==============================] - 70s 199ms/step - loss: 0.4562 - accuracy: 0.8593\n",
      "Epoch 47/50\n",
      "351/351 [==============================] - 71s 201ms/step - loss: 0.4385 - accuracy: 0.8590\n",
      "Epoch 48/50\n",
      "351/351 [==============================] - 71s 203ms/step - loss: 0.4541 - accuracy: 0.8588\n",
      "Epoch 49/50\n",
      "351/351 [==============================] - 72s 205ms/step - loss: 0.4314 - accuracy: 0.8661\n",
      "Epoch 50/50\n",
      "351/351 [==============================] - 72s 206ms/step - loss: 0.4319 - accuracy: 0.8653\n"
     ]
    },
    {
     "data": {
      "text/plain": [
       "<keras.src.callbacks.History at 0x7aec90311a50>"
      ]
     },
     "execution_count": 12,
     "metadata": {},
     "output_type": "execute_result"
    }
   ],
   "source": [
    "model.fit(\n",
    "    train_generator,\n",
    "    steps_per_epoch=70295 // 200,  # Total number of training samples divided by batch size\n",
    "    epochs=50                  # Number of training epochs\n",
    ")"
   ]
  },
  {
   "cell_type": "code",
   "execution_count": 15,
   "metadata": {
    "id": "7YLjphjKSXSl"
   },
   "outputs": [],
   "source": [
    "model.save('plant_diseases.h5')"
   ]
  },
  {
   "cell_type": "code",
   "execution_count": null,
   "metadata": {
    "id": "lak9hGGOUay0"
   },
   "outputs": [],
   "source": [
    "import os\n",
    "\n",
    "# Path to the directory containing training images\n",
    "train_data_dir = 'path_to_training_data_directory'  # Replace with the path to your training data directory\n",
    "\n",
    "# Get class names from subdirectories\n",
    "class_names = sorted(os.listdir(train_data_dir))\n",
    "\n",
    "print(\"Class names:\", class_names)"
   ]
  },
  {
   "cell_type": "code",
   "execution_count": 16,
   "metadata": {
    "colab": {
     "base_uri": "https://localhost:8080/"
    },
    "id": "gWc7fP_-VBkQ",
    "outputId": "69984535-6bf3-426f-9ad1-32e6f1b8ec42"
   },
   "outputs": [
    {
     "data": {
      "text/plain": [
       "['Apple___Apple_scab',\n",
       " 'Apple___Black_rot',\n",
       " 'Apple___Cedar_apple_rust',\n",
       " 'Apple___healthy',\n",
       " 'Blueberry___healthy',\n",
       " 'Cherry_(including_sour)___Powdery_mildew',\n",
       " 'Cherry_(including_sour)___healthy',\n",
       " 'Corn_(maize)___Cercospora_leaf_spot Gray_leaf_spot',\n",
       " 'Corn_(maize)___Common_rust_',\n",
       " 'Corn_(maize)___Northern_Leaf_Blight',\n",
       " 'Corn_(maize)___healthy',\n",
       " 'Grape___Black_rot',\n",
       " 'Grape___Esca_(Black_Measles)',\n",
       " 'Grape___Leaf_blight_(Isariopsis_Leaf_Spot)',\n",
       " 'Grape___healthy',\n",
       " 'Orange___Haunglongbing_(Citrus_greening)',\n",
       " 'Peach___Bacterial_spot',\n",
       " 'Peach___healthy',\n",
       " 'Pepper,_bell___Bacterial_spot',\n",
       " 'Pepper,_bell___healthy',\n",
       " 'Potato___Early_blight',\n",
       " 'Potato___Late_blight',\n",
       " 'Potato___healthy',\n",
       " 'Raspberry___healthy',\n",
       " 'Soybean___healthy',\n",
       " 'Squash___Powdery_mildew',\n",
       " 'Strawberry___Leaf_scorch',\n",
       " 'Strawberry___healthy',\n",
       " 'Tomato___Bacterial_spot',\n",
       " 'Tomato___Early_blight',\n",
       " 'Tomato___Late_blight',\n",
       " 'Tomato___Leaf_Mold',\n",
       " 'Tomato___Septoria_leaf_spot',\n",
       " 'Tomato___Spider_mites Two-spotted_spider_mite',\n",
       " 'Tomato___Target_Spot',\n",
       " 'Tomato___Tomato_Yellow_Leaf_Curl_Virus',\n",
       " 'Tomato___Tomato_mosaic_virus',\n",
       " 'Tomato___healthy']"
      ]
     },
     "execution_count": 16,
     "metadata": {},
     "output_type": "execute_result"
    }
   ],
   "source": [
    "# Get class names from the generator\n",
    "class_names = list(train_generator.class_indices.keys())\n",
    "class_names"
   ]
  },
  {
   "cell_type": "code",
   "execution_count": 25,
   "metadata": {
    "colab": {
     "base_uri": "https://localhost:8080/",
     "height": 88
    },
    "id": "UX2EIBYhTq3v",
    "outputId": "0dcbf9a6-0d78-41e0-c223-45ef01e0ba0d"
   },
   "outputs": [
    {
     "name": "stdout",
     "output_type": "stream",
     "text": [
      "1/1 [==============================] - 0s 18ms/step\n",
      "Predicted class: 2\n",
      "Confidence: 0.9305471\n"
     ]
    },
    {
     "data": {
      "application/vnd.google.colaboratory.intrinsic+json": {
       "type": "string"
      },
      "text/plain": [
       "'Apple___Cedar_apple_rust'"
      ]
     },
     "execution_count": 25,
     "metadata": {},
     "output_type": "execute_result"
    }
   ],
   "source": [
    "import numpy as np\n",
    "from tensorflow.keras.preprocessing import image\n",
    "\n",
    "# Load and preprocess the image\n",
    "img_path = '/content/new-plant-diseases-dataset/test/test/AppleCedarRust1.JPG'  # Replace with the path to your image file\n",
    "img = image.load_img(img_path, target_size=(150, 150))  # Resize image to match model input size\n",
    "img_array = image.img_to_array(img)\n",
    "img_array = np.expand_dims(img_array, axis=0)  # Add batch dimension\n",
    "# img_array /= 255.0  # Normalize pixel values (assuming your model was trained with normalized data)\n",
    "\n",
    "# Perform prediction\n",
    "predictions = model.predict(img_array)\n",
    "\n",
    "# Interpret predictions\n",
    "predicted_class = np.argmax(predictions)\n",
    "confidence = predictions[0][predicted_class]\n",
    "\n",
    "print(\"Predicted class:\", predicted_class)\n",
    "print(\"Confidence:\", confidence)\n",
    "class_names[predicted_class]"
   ]
  }
 ],
 "metadata": {
  "accelerator": "GPU",
  "colab": {
   "gpuType": "T4",
   "provenance": []
  },
  "kernelspec": {
   "display_name": "Python 3 (ipykernel)",
   "language": "python",
   "name": "python3"
  },
  "language_info": {
   "codemirror_mode": {
    "name": "ipython",
    "version": 3
   },
   "file_extension": ".py",
   "mimetype": "text/x-python",
   "name": "python",
   "nbconvert_exporter": "python",
   "pygments_lexer": "ipython3",
   "version": "3.9.13"
  }
 },
 "nbformat": 4,
 "nbformat_minor": 1
}
